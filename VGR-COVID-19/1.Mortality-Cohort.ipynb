{
 "cells": [
  {
   "cell_type": "code",
   "execution_count": 1,
   "metadata": {},
   "outputs": [],
   "source": [
    "import pandas as pd"
   ]
  },
  {
   "cell_type": "code",
   "execution_count": 2,
   "metadata": {},
   "outputs": [
    {
     "data": {
      "text/plain": [
       "['Kliniskt Testade                                                                                    ',\n",
       " 'Misstänkt COVID_19                                                                                  ',\n",
       " 'COVID_19                                                                                            ',\n",
       " 'Indikation COVID_19                                                                                 ',\n",
       " 'U072                                                                                                ',\n",
       " 'Rehab Covid_19                                                                                      ']"
      ]
     },
     "metadata": {},
     "output_type": "display_data"
    },
    {
     "name": "stdout",
     "output_type": "stream",
     "text": [
      "Test results: \n",
      " ['Pos', 'Pos            ', 'POS            ', 'POS', 'Neg', 'pos', 'Positiv        ', 'NEG            ', 'Neg            ']\n",
      "Keys for pos result: \n",
      " ['Pos', 'Pos            ', 'POS            ', 'POS', 'pos', 'Positiv        ']\n"
     ]
    }
   ],
   "source": [
    "C19_ID = pd.read_csv('data/COVID_19_ID_full.csv')\n",
    "c_list = C19_ID.Patientgrupp.unique().tolist() \n",
    "display(c_list)\n",
    "covid_test_results = C19_ID[C19_ID.Patientgrupp==c_list[0]].Observation.value_counts().index.values[0:9].tolist()\n",
    "print('Test results: \\n', covid_test_results)\n",
    "covid_pos_results = covid_test_results[0:4] + covid_test_results[5:7] \n",
    "print('Keys for pos result: \\n', covid_pos_results)"
   ]
  },
  {
   "cell_type": "code",
   "execution_count": 3,
   "metadata": {},
   "outputs": [
    {
     "name": "stdout",
     "output_type": "stream",
     "text": [
      "Number of patients:  5324\n"
     ]
    }
   ],
   "source": [
    "# Select patients and info\n",
    "c_patients = C19_ID[(C19_ID.Patientgrupp == c_list[0]) &\n",
    "                    (C19_ID.Observation.isin(covid_pos_results))\n",
    "                   ]\n",
    "print(\"Number of patients: \", c_patients.shape[0])"
   ]
  },
  {
   "cell_type": "markdown",
   "metadata": {},
   "source": [
    "# Filter some patients/data"
   ]
  },
  {
   "cell_type": "code",
   "execution_count": 4,
   "metadata": {},
   "outputs": [],
   "source": [
    "# Drop underage patients\n",
    "c_patients = c_patients[c_patients.Ålder > 18]\n",
    "\n",
    "# Keep only some columns\n",
    "c_patients = c_patients[['Patient_ID','Ålder','Första_kontaktdatum']]\n",
    "c_patients.drop_duplicates(subset=['Patient_ID'], inplace = True)\n",
    "c_patients.reset_index(inplace=True, drop=True)"
   ]
  },
  {
   "cell_type": "code",
   "execution_count": 5,
   "metadata": {},
   "outputs": [
    {
     "name": "stdout",
     "output_type": "stream",
     "text": [
      "5124\n"
     ]
    }
   ],
   "source": [
    "print(c_patients.shape[0])"
   ]
  },
  {
   "cell_type": "code",
   "execution_count": 8,
   "metadata": {},
   "outputs": [
    {
     "name": "stdout",
     "output_type": "stream",
     "text": [
      "2020-10-22\n",
      "2020-02-27\n"
     ]
    }
   ],
   "source": [
    "print(c_patients['Första_kontaktdatum'].max())\n",
    "print(c_patients['Första_kontaktdatum'].min())"
   ]
  },
  {
   "cell_type": "code",
   "execution_count": 6,
   "metadata": {},
   "outputs": [],
   "source": [
    "c_patients.to_csv('./data_gen/cohort.csv', index=False)"
   ]
  },
  {
   "cell_type": "code",
   "execution_count": null,
   "metadata": {},
   "outputs": [],
   "source": []
  }
 ],
 "metadata": {
  "kernelspec": {
   "display_name": "Python 3",
   "language": "python",
   "name": "python3"
  },
  "language_info": {
   "codemirror_mode": {
    "name": "ipython",
    "version": 3
   },
   "file_extension": ".py",
   "mimetype": "text/x-python",
   "name": "python",
   "nbconvert_exporter": "python",
   "pygments_lexer": "ipython3",
   "version": "3.7.6"
  }
 },
 "nbformat": 4,
 "nbformat_minor": 4
}
