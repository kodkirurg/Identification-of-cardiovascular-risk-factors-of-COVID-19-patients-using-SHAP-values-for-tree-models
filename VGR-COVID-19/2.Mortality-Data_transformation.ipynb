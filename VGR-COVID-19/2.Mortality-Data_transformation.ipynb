{
 "cells": [
  {
   "cell_type": "code",
   "execution_count": 6,
   "metadata": {},
   "outputs": [],
   "source": [
    "import pandas as pd\n",
    "df_cohort = pd.read_csv('data_gen/cohort.csv')"
   ]
  },
  {
   "cell_type": "code",
   "execution_count": 7,
   "metadata": {},
   "outputs": [
    {
     "name": "stdout",
     "output_type": "stream",
     "text": [
      "Enheter HbA1C\n"
     ]
    },
    {
     "data": {
      "text/plain": [
       "mmol/mol                3861\n",
       "(taget)/                   4\n",
       "Name: Enhet, dtype: int64"
      ]
     },
     "metadata": {},
     "output_type": "display_data"
    },
    {
     "name": "stdout",
     "output_type": "stream",
     "text": [
      "Enheter P-glucos/glukos\n"
     ]
    },
    {
     "data": {
      "text/plain": [
       "mmol/l                  259404\n",
       "Name: Enhet, dtype: int64"
      ]
     },
     "metadata": {},
     "output_type": "display_data"
    },
    {
     "name": "stdout",
     "output_type": "stream",
     "text": [
      "Enheter Bloodpressure\n"
     ]
    },
    {
     "data": {
      "text/plain": [
       "Blodtryck systoliskt     353238\n",
       "Blodtryck diastoliskt    352587\n",
       "Name: Kod_Text, dtype: int64"
      ]
     },
     "metadata": {},
     "output_type": "display_data"
    }
   ],
   "source": [
    "df_BMI = pd.read_csv('data/BMI.csv')\n",
    "# Drop unreasltic values\n",
    "df_BMI = df_BMI[(df_BMI.Värde > 3) & (df_BMI.Värde < 70)]\n",
    "df_BMI.sort_values(by='Observation_datum', ascending=False, inplace = True)\n",
    "\n",
    "\n",
    "# Heigh and weight values(cm,kg)\n",
    "df_height = pd.read_csv('data/Height.csv').sort_values(by='Observation_datum' ,ascending=False)[['Patient_ID','Värde']]\n",
    "df_weight = pd.read_csv('data/Weight.csv').sort_values(by='Observation_datum' ,ascending=False)[['Patient_ID','Värde']]\n",
    "# Force convert or drop\n",
    "df_height.Värde = pd.to_numeric(df_height.Värde, errors='coerce')\n",
    "df_weight.Värde = pd.to_numeric(df_weight.Värde, errors='coerce')\n",
    "\n",
    "\n",
    "# Place latest results first\n",
    "df_HbA1c = pd.read_csv('data/HbA1c.csv').sort_values(by='Observation_datum', ascending=False)\n",
    "print('Enheter HbA1C')\n",
    "display( df_HbA1c.Enhet.value_counts())\n",
    "\n",
    "\n",
    "# Mortality and sex\n",
    "df_age_sex = pd.read_csv('data/age_sex.csv')\n",
    "\n",
    "\n",
    "# Glucose\n",
    "df_glucose = pd.read_csv('data/Glucose2.csv')\n",
    "print('Enheter P-glucos/glukos')\n",
    "display(df_glucose.Enhet.value_counts())\n",
    "# Drop unrealistic values\n",
    "df_glucose = df_glucose[df_glucose.Värde < 80]\n",
    "\n",
    "\n",
    "# Blood pressure\n",
    "df_blood_pressure = pd.read_csv('data/BloodPressure.csv')\n",
    "# Convert Värde to numeric, if not possible, drop\n",
    "df_blood_pressure.Värde = pd.to_numeric(df_blood_pressure.Värde, errors='coerce')\n",
    "df_blood_pressure.dropna(subset=['Värde'], inplace = True)\n",
    "# Drop unrealistic values\n",
    "df_blood_pressure = df_blood_pressure[df_blood_pressure.Värde < 500]\n",
    "\n",
    "print('Enheter Bloodpressure')\n",
    "display(df_blood_pressure.Kod_Text.value_counts())\n",
    "\n",
    "# Split blood pressure for systoliskt(max) and diastoliskt(min) and sort with latest date first   \n",
    "df_blood_pressure_systoliskt = df_blood_pressure[df_blood_pressure.Kod_Text=='Blodtryck systoliskt'].sort_values(by='Observation_datum', ascending=False)\n",
    "df_blood_pressure_diastoliskt = df_blood_pressure[df_blood_pressure.Kod_Text=='Blodtryck diastoliskt'].sort_values(by='Observation_datum', ascending=False)\n",
    "\n",
    "\n",
    "# ICDs\n",
    "df_ICD = pd.read_csv('data/BASELINE_ICDs.csv')\n",
    "# Merge and drop\n",
    "df_ICD = df_ICD.merge(df_cohort, how='right',on='Patient_ID').drop_duplicates(subset=['Patient_ID', 'Kod'])[['Patient_ID','Kod']]\n",
    "# Top results\n",
    "ICD_list = df_ICD.Kod.value_counts().index.values[0:10].tolist()"
   ]
  },
  {
   "cell_type": "markdown",
   "metadata": {},
   "source": [
    "# Support functions"
   ]
  },
  {
   "cell_type": "code",
   "execution_count": 9,
   "metadata": {},
   "outputs": [],
   "source": [
    "def get_ICDs(Patient_ID):\n",
    "    results = df_ICD[df_ICD.Patient_ID == Patient_ID]\n",
    "    list = each_ICD(results)\n",
    "    return list\n",
    "\n",
    "def each_ICD(results):\n",
    "    list = []\n",
    "    for icd in ICD_list:\n",
    "        if results[results.Kod==icd].shape[0] > 0:\n",
    "            list = list+[1]\n",
    "        else:\n",
    "            list = list+[0]  \n",
    "    return list\n",
    "    \n",
    "    \n",
    "def get_BMI(Patient_ID):\n",
    "    results = df_BMI[df_BMI.Patient_ID==Patient_ID]\n",
    "    \n",
    "    # Can't find BMI from BMI data set, check weight and height and calculate if possible\n",
    "    if results.shape[0] < 1:\n",
    "        BMI = get_BMI_w_h(Patient_ID)\n",
    "        return BMI\n",
    "    else:\n",
    "        for item in results[['Värde']].values:\n",
    "            try:\n",
    "                return float(item)\n",
    "            except:\n",
    "                continue;\n",
    "    \n",
    "def get_BMI_w_h(Patient_ID):\n",
    "    results_h = df_height[df_height.Patient_ID==Patient_ID]\n",
    "    results_w = df_weight[df_weight.Patient_ID==Patient_ID]\n",
    "    if (results_w.shape[0] > 0) & (results_h.shape[0] > 0 ):\n",
    "        try:\n",
    "            height = float(results_h[['Värde']].values[0][0])\n",
    "            weight= float(results_w[['Värde']].values[0][0])\n",
    "            BMI = weight / ((height/100)**2)\n",
    "            # sanity check \n",
    "            if (BMI < 3) | (BMI > 100):\n",
    "                return float('NaN')\n",
    "            return BMI\n",
    "        except:\n",
    "            pass\n",
    "    return float('NaN')\n",
    "    \n",
    "def get_blood_pressure(df, Patient_ID):\n",
    "    results = df[df.Patient_ID==Patient_ID]\n",
    "    if results.shape[0] > 0:\n",
    "        return float(results[['Värde']].values[0][0])\n",
    "    return float('NaN')\n",
    "    \n",
    "\n",
    "def get_glucose(Patient_ID):\n",
    "    results = df_glucose[df_glucose.Patient_ID==Patient_ID]\n",
    "    if results.shape[0] > 0:\n",
    "        return float(results.Värde.mean())\n",
    "    return float('NaN')\n",
    "\n",
    "def get_HbA1c(Patient_ID):\n",
    "    results = df_HbA1c[df_HbA1c.Patient_ID==Patient_ID]\n",
    "\n",
    "    if len(results) < 1:\n",
    "        return float('NaN')\n",
    "    else:\n",
    "        for item in results[['Värde']].values:\n",
    "            try:\n",
    "                return float(item)\n",
    "            except:\n",
    "                continue\n",
    "        return float('NaN')\n",
    "    \n",
    "# expired, 1=died, 0=survived, NaN=-\n",
    "def get_mortality(Patient_ID):\n",
    "    results =  df_age_sex[df_age_sex.Patient_ID==Patient_ID]\n",
    "    try:\n",
    "        rtr = results[['AvlidenDatum']].values[0][0]\n",
    "        return 1 if rtr != '-         ' else 0\n",
    "    except:\n",
    "        raise Exception('Error: AvlidenDatum missing, should not happen')\n",
    "\n",
    "\n",
    "# Should only be one value, but can't hurt to catch errors\n",
    "# Gender, 1=man=male, 0=kvinna=female\n",
    "def get_gender(Patient_ID):\n",
    "    results =  df_age_sex[df_age_sex.Patient_ID==Patient_ID]\n",
    "    try:\n",
    "        rtr = results[['Kön']].values[0][0]\n",
    "        if (rtr=='M') | (rtr=='K'):\n",
    "            return 1 if rtr=='M' else 0\n",
    "        else:\n",
    "            raise Exception('Error: Kön missing, should not happen') \n",
    "    except:\n",
    "        raise Exception('Error: Kön missing, should not happen') "
   ]
  },
  {
   "cell_type": "code",
   "execution_count": 10,
   "metadata": {},
   "outputs": [],
   "source": [
    "def gen_dataset(df):\n",
    "    patient = df['Patient_ID']\n",
    "    return [\n",
    "                patient,\n",
    "                df['Ålder'],\n",
    "                get_gender(patient),\n",
    "                get_HbA1c(patient),\n",
    "                get_glucose(patient),\n",
    "                get_blood_pressure(df_blood_pressure_diastoliskt,patient),\n",
    "                get_blood_pressure(df_blood_pressure_systoliskt, patient),\n",
    "                get_BMI(patient),\n",
    "                get_mortality(patient), \n",
    "    ]+get_ICDs(patient)\n",
    "\n",
    "\n",
    "res = df_cohort.apply(gen_dataset, axis=1).tolist()\n",
    "\n",
    "\n",
    "samples_transformed = pd.DataFrame(res, columns=['Patient_ID',\n",
    "                                     'age',\n",
    "                                     'gender',\n",
    "                                     'HbA1c',\n",
    "                                     'P-glucose', \n",
    "                                     'blood_pressure_diastoliskt',\n",
    "                                     'blood_pressure_systoliskt',    \n",
    "                                     'BMI',           \n",
    "                                     'expired',\n",
    "                                     ]+ICD_list\n",
    "            )"
   ]
  },
  {
   "cell_type": "code",
   "execution_count": 12,
   "metadata": {},
   "outputs": [],
   "source": [
    "samples_transformed.drop(columns=['Patient_ID']).to_csv('./data_gen/samples_transformed.csv', index=False)"
   ]
  },
  {
   "cell_type": "code",
   "execution_count": null,
   "metadata": {},
   "outputs": [],
   "source": []
  }
 ],
 "metadata": {
  "kernelspec": {
   "display_name": "Python 3",
   "language": "python",
   "name": "python3"
  },
  "language_info": {
   "codemirror_mode": {
    "name": "ipython",
    "version": 3
   },
   "file_extension": ".py",
   "mimetype": "text/x-python",
   "name": "python",
   "nbconvert_exporter": "python",
   "pygments_lexer": "ipython3",
   "version": "3.7.4"
  }
 },
 "nbformat": 4,
 "nbformat_minor": 4
}
