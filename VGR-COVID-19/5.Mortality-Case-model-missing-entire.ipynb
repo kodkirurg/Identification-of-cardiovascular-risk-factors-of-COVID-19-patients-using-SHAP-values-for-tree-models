{
 "cells": [
  {
   "cell_type": "code",
   "execution_count": null,
   "metadata": {},
   "outputs": [],
   "source": [
    "# Data stuff\n",
    "import numpy as np\n",
    "import pandas as pd\n",
    "\n",
    "# Visual stuff\n",
    "from IPython.display import display\n",
    "# Configs \n",
    "pd.options.display.max_columns = None\n",
    "pd.options.display.max_rows = None\n",
    "import matplotlib.pyplot as plt\n",
    "\n",
    "# Random state seed\n",
    "rand_state=42\n",
    "\n",
    "# ML stuff\n",
    "import sklearn\n",
    "from sklearn import metrics\n",
    "from sklearn.model_selection import RandomizedSearchCV,StratifiedKFold\n",
    "import lightgbm as lgb\n",
    "import xgboost as xgb\n",
    "from xgboost import XGBClassifier\n",
    "import shap\n",
    "from sklearn.metrics import confusion_matrix\n"
   ]
  },
  {
   "cell_type": "code",
   "execution_count": null,
   "metadata": {},
   "outputs": [],
   "source": [
    "data = pd.read_csv('data_gen/dataset_missing_entire.csv')\n",
    "# Ensure correct types\n",
    "data = data.astype(dtype={\n",
    "    'age':float,\n",
    "    'gender':int,\n",
    "    'expired':int,\n",
    "    'P-glucose':float,\n",
    "    'blood_pressure_systoliskt':float,\n",
    "    'blood_pressure_diastoliskt':float,\n",
    "    'BMI':float\n",
    "    \n",
    "})\n",
    "# Order ints(categorical variables, first) and floats(number variables, last)\n",
    "data = data[[\n",
    "    'gender',\n",
    "    'I109',\n",
    "    'E119',\n",
    "    'E669',\n",
    "    'I259',\n",
    "    'I252',\n",
    "    'I209',\n",
    "    'E660',\n",
    "    'E118',\n",
    "    'I639',\n",
    "    'E113',\n",
    "    'expired',\n",
    "    'age',\n",
    "    'P-glucose',\n",
    "    'blood_pressure_systoliskt',\n",
    "    'blood_pressure_diastoliskt',\n",
    "    'BMI',\n",
    "]]"
   ]
  },
  {
   "cell_type": "code",
   "execution_count": null,
   "metadata": {},
   "outputs": [],
   "source": [
    "def plot_age_vs_expired_for(predictor, dataset):\n",
    "    died_with_predictor = dataset[ (dataset.expired==1) & (dataset[predictor] == 1) ].age.tolist()\n",
    "    died_predictor = dataset[ (dataset.expired==1) & (dataset[predictor]  == 0) ].age.tolist()\n",
    "    lived_with_predictor = dataset[ (dataset.expired==0) & (dataset[predictor]  == 1) ].age.tolist()\n",
    "    lived_predictor = dataset[ (dataset.expired==0) & (dataset[predictor]  == 0) ].age.tolist()\n",
    "\n",
    "\n",
    "    plt.figure( figsize=(7,5),dpi=300)\n",
    "\n",
    "    plt.hist([died_with_predictor, died_predictor,lived_with_predictor,  lived_predictor ],\n",
    "             stacked=True, color=['darkred','red','green','lightgreen'], bins = int(dataset.age.max()-dataset.age.min()) )\n",
    "    if predictor =='gender':\n",
    "        plt.legend(['Died(men)','Died(women) ', 'Lived(men)', 'Lived(women)'])\n",
    "    else:   \n",
    "        plt.legend(['Died with '+ predictor,'Died without '+ predictor,'Lived with '+ predictor, 'Lived without '+ predictor ])\n",
    "    \n",
    "    plt.ylabel('Numbers of patients')\n",
    "    plt.xlabel('Age')\n",
    "    plt.title('Age vs expired vs '+predictor)\n",
    "\n",
    "    plt.show()\n",
    "    \n",
    "def plot_predictor_vs_expired(predictor, dataset):\n",
    "\n",
    "    plt.figure( figsize=(7,5),dpi=300)\n",
    "\n",
    "    plt.hist([dataset[dataset.expired==1][predictor].tolist(),dataset[dataset.expired==0][predictor].tolist()],\n",
    "             stacked=True, color=['red','lightgreen'], bins = int(dataset.age.max()-dataset.age.min()) )\n",
    "    plt.legend(['Died','Survived'])\n",
    "    plt.ylabel('Numbers of patients')\n",
    "    plt.xlabel(predictor)\n",
    "    plt.title('Mortality amongst COVID-19 patients(confirmed cases)')\n",
    "\n",
    "    plt.show()\n"
   ]
  },
  {
   "cell_type": "code",
   "execution_count": null,
   "metadata": {},
   "outputs": [],
   "source": [
    "dataset = data.copy(deep=True)\n",
    "\n",
    "# dataset as is, but target variable dropped(hospital expire flag)\n",
    "dataset_no_target = dataset.drop(columns=['expired'])\n",
    "\n",
    "# Feture names and categorical feature names\n",
    "feature_names = dataset_no_target.select_dtypes(include='int').columns.values.tolist() + dataset_no_target.select_dtypes(exclude='int').columns.values.tolist() \n",
    "\n",
    "# Generate data set with categories(int type required)\n",
    "dataframe_int_list = dataset_no_target.select_dtypes(include='int').values.tolist()\n",
    "dataframe_no_int_list = dataset_no_target.select_dtypes(exclude='int').values.tolist()\n",
    "Y = dataset.expired.values.tolist()\n",
    "X = []\n",
    "for i,v in enumerate(dataframe_int_list):\n",
    "    X = X + [v+dataframe_no_int_list[i]]"
   ]
  },
  {
   "cell_type": "code",
   "execution_count": null,
   "metadata": {},
   "outputs": [],
   "source": [
    "def strat_cv_it(classifier, params, param_comb ):\n",
    "    folds = 3\n",
    "    skf = StratifiedKFold(n_splits=folds, shuffle = True, random_state = rand_state)\n",
    "    \n",
    "    # Perform fit and scoring\n",
    "    random_search = RandomizedSearchCV( classifier, return_train_score=True, param_distributions=params ,scoring='roc_auc', n_iter=param_comb, n_jobs=4, cv=skf.split(X, Y),random_state = rand_state, refit=True, verbose=3, error_score=0.0 )\n",
    "    random_search.fit(X, Y)     \n",
    "\n",
    "    # Display results and return best model\n",
    "    display(random_search.best_score_)\n",
    "    display(random_search.best_params_)\n",
    "    display(pd.DataFrame(random_search.cv_results_))\n",
    "    return random_search.best_estimator_\n",
    "\n",
    "# Scale of negative class to the positive class(#survived/#died)\n",
    "scale_pos_weight_min = int( (dataset[dataset.expired==0].shape[0] / dataset[dataset.expired==1].shape[0]) )"
   ]
  },
  {
   "cell_type": "markdown",
   "metadata": {},
   "source": [
    "# LightGBM"
   ]
  },
  {
   "cell_type": "code",
   "execution_count": null,
   "metadata": {},
   "outputs": [],
   "source": [
    "LGB_classifier = lgb.LGBMClassifier()\n",
    "LGB_params = {\n",
    "             'num_leaves': [1,5,8,10,15,20,35,40], \n",
    "             'min_child_samples': [1,5,10,20,50,100,200,300,400,500], \n",
    "             'min_child_weight': [1e-5, 1e-3, 1e-2, 1e-1, 1, 1e1, 1e2, 1e3, 1e4],\n",
    "             'subsample': [0.2,0,4,0.5, 0.6, 0.8, 1.0],\n",
    "             'colsample_bytree': [0.6, 0.8, 1.0],\n",
    "             'reg_alpha': [0, 1e-1, 1, 2, 5, 7, 10, 50, 100],\n",
    "             'reg_lambda': [0, 1e-1, 1, 5, 10, 20, 50, 100],\n",
    "             'scale_pos_weight':  list(range(scale_pos_weight_min,3*scale_pos_weight_min))\n",
    "\n",
    "}\n",
    "model = strat_cv_it(LGB_classifier ,LGB_params,50)\n",
    "explainer = shap.TreeExplainer(model)"
   ]
  },
  {
   "cell_type": "code",
   "execution_count": null,
   "metadata": {},
   "outputs": [],
   "source": [
    "y_true = Y\n",
    "y_pred = model.predict(X)\n",
    "confusion_matrix(y_true, y_pred)"
   ]
  },
  {
   "cell_type": "code",
   "execution_count": null,
   "metadata": {},
   "outputs": [],
   "source": [
    "shap_values = explainer.shap_values(dataset.drop(columns=['expired']))\n",
    "shap.summary_plot(shap_values[1],dataset.drop(columns=['expired']) ,feature_names=feature_names, show=False)\n",
    "#plt.savefig(\"shap_summary.svg\", format='svg', dpi=300, bbox_inches='tight')\n",
    "for predictor in feature_names:\n",
    "    if predictor != 'age':\n",
    "        save = shap.dependence_plot(predictor, shap_values[1],dataset.drop(columns=['expired']) ,feature_names=feature_names, show=False)\n",
    "    else:\n",
    "        save = shap.dependence_plot(predictor, shap_values[1],dataset.drop(columns=['expired']) ,feature_names=feature_names, interaction_index='gender', show=False)\n",
    "        \n",
    "  #  plt.savefig(predictor+\".svg\", format='svg', dpi=300, bbox_inches='tight')"
   ]
  },
  {
   "cell_type": "code",
   "execution_count": null,
   "metadata": {},
   "outputs": [],
   "source": [
    "# Plot some interesting stuff\n",
    "plot_predictor_vs_expired('age',dataset)\n",
    "plot_age_vs_expired_for('gender', dataset)\n",
    "plot_predictor_vs_expired('BMI', dataset)\n",
    "plot_age_vs_expired_for('I109', dataset)\n",
    "plot_age_vs_expired_for('E119', dataset)"
   ]
  },
  {
   "cell_type": "code",
   "execution_count": null,
   "metadata": {},
   "outputs": [],
   "source": []
  },
  {
   "cell_type": "markdown",
   "metadata": {},
   "source": [
    "# LightGBM withouth age predictor"
   ]
  },
  {
   "cell_type": "code",
   "execution_count": null,
   "metadata": {},
   "outputs": [],
   "source": [
    "dataset.drop(inplace=True, axis=1, labels=['age'])\n",
    "\n",
    "# dataset as is, but target variable dropped(hospital expire flag)\n",
    "dataset_no_target = dataset.drop(columns=['expired'])\n",
    "\n",
    "# Feture names and categorical feature names\n",
    "feature_names = dataset_no_target.select_dtypes(include='int').columns.values.tolist() + dataset_no_target.select_dtypes(exclude='int').columns.values.tolist() \n",
    "\n",
    "# Generate data set with categories(int type required)\n",
    "dataframe_int_list = dataset_no_target.select_dtypes(include='int').values.tolist()\n",
    "dataframe_no_int_list = dataset_no_target.select_dtypes(exclude='int').values.tolist()\n",
    "Y = dataset.expired.values.tolist()\n",
    "X = []\n",
    "for i,v in enumerate(dataframe_int_list):\n",
    "    X = X + [v+dataframe_no_int_list[i]]\n"
   ]
  },
  {
   "cell_type": "code",
   "execution_count": null,
   "metadata": {},
   "outputs": [],
   "source": [
    "LGB_classifier = lgb.LGBMClassifier()\n",
    "LGB_params = {\n",
    "             'num_leaves': [1,5,8,10,15,20,35,40], \n",
    "             'min_child_samples': [1,5,10,20,50,100,200,300,400,500], \n",
    "             'min_child_weight': [1e-5, 1e-3, 1e-2, 1e-1, 1, 1e1, 1e2, 1e3, 1e4],\n",
    "             'subsample': [0.2,0,4,0.5, 0.6, 0.8, 1.0],\n",
    "             'colsample_bytree': [0.6, 0.8, 1.0],\n",
    "             'reg_alpha': [0, 1e-1, 1, 2, 5, 7, 10, 50, 100],\n",
    "             'reg_lambda': [0, 1e-1, 1, 5, 10, 20, 50, 100],\n",
    "             'scale_pos_weight':  list(range(scale_pos_weight_min,3*scale_pos_weight_min))\n",
    "\n",
    "}\n",
    "model = strat_cv_it(LGB_classifier ,LGB_params,50)\n",
    "explainer = shap.TreeExplainer(model)"
   ]
  },
  {
   "cell_type": "code",
   "execution_count": null,
   "metadata": {},
   "outputs": [],
   "source": [
    "y_true = Y\n",
    "y_pred = model.predict(X)\n",
    "confusion_matrix(y_true, y_pred)"
   ]
  },
  {
   "cell_type": "code",
   "execution_count": null,
   "metadata": {},
   "outputs": [],
   "source": [
    "shap_values = explainer.shap_values(dataset.drop(columns=['expired']))\n",
    "shap.summary_plot(shap_values[1],dataset.drop(columns=['expired']) ,feature_names=feature_names, show=False)\n",
    "#plt.savefig(\"shap_summary.svg\", format='svg', dpi=300, bbox_inches='tight')\n",
    "for predictor in feature_names:\n",
    "    if predictor != 'age':\n",
    "        save = shap.dependence_plot(predictor, shap_values[1],dataset.drop(columns=['expired']) ,feature_names=feature_names, show=False)\n",
    "    else:\n",
    "        save = shap.dependence_plot(predictor, shap_values[1],dataset.drop(columns=['expired']) ,feature_names=feature_names, interaction_index='gender', show=False)\n",
    "        \n",
    "  #  plt.savefig(predictor+\".svg\", format='svg', dpi=300, bbox_inches='tight')"
   ]
  },
  {
   "cell_type": "code",
   "execution_count": null,
   "metadata": {},
   "outputs": [],
   "source": [
    "dataset = data.copy(deep=True)\n",
    "\n",
    "# dataset as is, but target variable dropped(hospital expire flag)\n",
    "dataset_no_target = dataset.drop(columns=['expired'])\n",
    "\n",
    "# Feture names and categorical feature names\n",
    "feature_names = dataset_no_target.select_dtypes(include='int').columns.values.tolist() + dataset_no_target.select_dtypes(exclude='int').columns.values.tolist() \n",
    "\n",
    "# Generate data set with categories(int type required)\n",
    "dataframe_int_list = dataset_no_target.select_dtypes(include='int').values.tolist()\n",
    "dataframe_no_int_list = dataset_no_target.select_dtypes(exclude='int').values.tolist()\n",
    "Y = dataset.expired.values.tolist()\n",
    "X = []\n",
    "for i,v in enumerate(dataframe_int_list):\n",
    "    X = X + [v+dataframe_no_int_list[i]]\n",
    "\n",
    "print('Split age groups at 70 \\n')\n",
    "print('Age Died')\n",
    "print('-70: ', dataset[(dataset.age <= 70 )  & (dataset.expired==1)].shape[0])\n",
    "print('70 +: ', dataset[(dataset.age > 70) & (dataset.expired==1)].shape[0])\n",
    "print('Age Lived')\n",
    "print('-70: ', dataset[(dataset.age <= 70 )  & (dataset.expired==0)].shape[0])\n",
    "print('70 +: ',dataset[(dataset.age > 70) & (dataset.expired==0)].shape[0])"
   ]
  },
  {
   "cell_type": "code",
   "execution_count": null,
   "metadata": {},
   "outputs": [],
   "source": [
    "# Plot some interesting stuff\n",
    "plot_age_vs_expired_for('I109', dataset)\n",
    "plot_age_vs_expired_for('gender', dataset)\n",
    "plot_predictor_vs_expired('BMI',dataset)\n",
    "plot_age_vs_expired_for('I259', dataset)\n",
    "plot_predictor_vs_expired('blood_pressure_diastoliskt',dataset)\n",
    "plot_predictor_vs_expired('blood_pressure_systoliskt',dataset)\n",
    "plot_predictor_vs_expired('P-glucose',dataset)"
   ]
  },
  {
   "cell_type": "markdown",
   "metadata": {},
   "source": [
    "# Age group 70 and below "
   ]
  },
  {
   "cell_type": "code",
   "execution_count": null,
   "metadata": {},
   "outputs": [],
   "source": [
    "dataset = data.copy(deep=True)\n",
    "dataset = dataset[dataset.age <= 70]\n",
    "\n",
    "\n",
    "# Plot some interesting stuff\n",
    "plot_predictor_vs_expired('age',dataset)\n",
    "plot_age_vs_expired_for('I109', dataset)\n",
    "plot_age_vs_expired_for('gender', dataset)\n",
    "plot_predictor_vs_expired('blood_pressure_systoliskt',dataset)\n",
    "plot_predictor_vs_expired('BMI', dataset)\n",
    "plot_predictor_vs_expired('blood_pressure_diastoliskt',dataset)\n",
    "\n",
    "\n",
    "\n",
    "\n",
    "\n",
    "# drop age\n",
    "dataset.drop(inplace=True, axis=1, labels=['age'])\n",
    "\n",
    "# dataset as is, but target variable dropped(hospital expire flag)\n",
    "dataset_no_target = dataset.drop(columns=['expired'])\n",
    "\n",
    "# Feture names and categorical feature names\n",
    "feature_names = dataset_no_target.select_dtypes(include='int').columns.values.tolist() + dataset_no_target.select_dtypes(exclude='int').columns.values.tolist() \n",
    "\n",
    "# Generate data set with categories(int type required)\n",
    "dataframe_int_list = dataset_no_target.select_dtypes(include='int').values.tolist()\n",
    "dataframe_no_int_list = dataset_no_target.select_dtypes(exclude='int').values.tolist()\n",
    "Y = dataset.expired.values.tolist()\n",
    "X = []\n",
    "for i,v in enumerate(dataframe_int_list):\n",
    "    X = X + [v+dataframe_no_int_list[i]]\n",
    "\n",
    "\n",
    "# Scale of negative class to the positive class(#survived/#died)\n",
    "scale_pos_weight_min = int( (dataset[dataset.expired==0].shape[0] / dataset[dataset.expired==1].shape[0]) )"
   ]
  },
  {
   "cell_type": "code",
   "execution_count": null,
   "metadata": {},
   "outputs": [],
   "source": [
    "LGB_classifier = lgb.LGBMClassifier()\n",
    "LGB_params = {\n",
    "             'num_leaves': [1,5,8,10,15,20,35,40], \n",
    "             'min_child_samples': [1,5,10,20,50,100,200,300,400,500], \n",
    "             'min_child_weight': [1e-5, 1e-3, 1e-2, 1e-1, 1, 1e1, 1e2, 1e3, 1e4],\n",
    "             'subsample': [0.2,0,4,0.5, 0.6, 0.8, 1.0],\n",
    "             'colsample_bytree': [0.6, 0.8, 1.0],\n",
    "             'reg_alpha': [0, 1e-1, 1, 2, 5, 7, 10, 50, 100],\n",
    "             'reg_lambda': [0, 1e-1, 1, 5, 10, 20, 50, 100],\n",
    "             'scale_pos_weight':  list(range(scale_pos_weight_min,3*scale_pos_weight_min))\n",
    "\n",
    "}\n",
    "model = strat_cv_it(LGB_classifier ,LGB_params,50)\n",
    "explainer = shap.TreeExplainer(model)"
   ]
  },
  {
   "cell_type": "code",
   "execution_count": null,
   "metadata": {},
   "outputs": [],
   "source": [
    "y_true = Y\n",
    "y_pred = model.predict(X)\n",
    "confusion_matrix(y_true, y_pred)"
   ]
  },
  {
   "cell_type": "code",
   "execution_count": null,
   "metadata": {},
   "outputs": [],
   "source": [
    "shap_values = explainer.shap_values(dataset.drop(columns=['expired']))\n",
    "shap.summary_plot(shap_values[1],dataset.drop(columns=['expired']) ,feature_names=feature_names, show=False)\n",
    "#plt.savefig(\"shap_summary.svg\", format='svg', dpi=300, bbox_inches='tight')\n",
    "for predictor in feature_names:\n",
    "    if predictor != 'age':\n",
    "        save = shap.dependence_plot(predictor, shap_values[1],dataset.drop(columns=['expired']) ,feature_names=feature_names, show=False)\n",
    "    else:\n",
    "        save = shap.dependence_plot(predictor, shap_values[1],dataset.drop(columns=['expired']) ,feature_names=feature_names, interaction_index='gender', show=False)\n",
    "        \n",
    "  #  plt.savefig(predictor+\".svg\", format='svg', dpi=300, bbox_inches='tight')"
   ]
  },
  {
   "cell_type": "markdown",
   "metadata": {},
   "source": [
    "# Age group above 70"
   ]
  },
  {
   "cell_type": "code",
   "execution_count": null,
   "metadata": {},
   "outputs": [],
   "source": [
    "dataset = data.copy(deep=True)\n",
    "dataset = dataset[(dataset.age > 70) ]\n",
    "\n",
    "# Drop age\n",
    "dataset.drop(inplace=True, axis=1, labels=['age'])\n",
    "\n",
    "\n",
    "# dataset as is, but target variable dropped(hospital expire flag)\n",
    "dataset_no_target = dataset.drop(columns=['expired'])\n",
    "\n",
    "# Feture names and categorical feature names\n",
    "feature_names = dataset_no_target.select_dtypes(include='int').columns.values.tolist() + dataset_no_target.select_dtypes(exclude='int').columns.values.tolist() \n",
    "\n",
    "# Generate data set with categories(int type required)\n",
    "dataframe_int_list = dataset_no_target.select_dtypes(include='int').values.tolist()\n",
    "dataframe_no_int_list = dataset_no_target.select_dtypes(exclude='int').values.tolist()\n",
    "Y = dataset.expired.values.tolist()\n",
    "X = []\n",
    "for i,v in enumerate(dataframe_int_list):\n",
    "    X = X + [v+dataframe_no_int_list[i]]\n",
    "\n",
    "\n",
    "# Scale of negative class to the positive class(#survived/#died)\n",
    "scale_pos_weight_min = int( (dataset[dataset.expired==0].shape[0] / dataset[dataset.expired==1].shape[0]) )"
   ]
  },
  {
   "cell_type": "code",
   "execution_count": null,
   "metadata": {
    "scrolled": false
   },
   "outputs": [],
   "source": [
    "LGB_classifier = lgb.LGBMClassifier()\n",
    "LGB_params = {\n",
    "             'num_leaves': [1,5,8,10,15,20,35,40], \n",
    "             'min_child_samples': [1,5,10,20,50,100,200,300,400,500], \n",
    "             'min_child_weight': [1e-5, 1e-3, 1e-2, 1e-1, 1, 1e1, 1e2, 1e3, 1e4],\n",
    "             'subsample': [0.2,0,4,0.5, 0.6, 0.8, 1.0],\n",
    "             'colsample_bytree': [0.6, 0.8, 1.0],\n",
    "             'reg_alpha': [0, 1e-1, 1, 2, 5, 7, 10, 50, 100],\n",
    "             'reg_lambda': [0, 1e-1, 1, 5, 10, 20, 50, 100],\n",
    "             'scale_pos_weight':  list(range(scale_pos_weight_min,3*scale_pos_weight_min))\n",
    "\n",
    "}\n",
    "model = strat_cv_it(LGB_classifier ,LGB_params,50)\n",
    "explainer = shap.TreeExplainer(model)"
   ]
  },
  {
   "cell_type": "code",
   "execution_count": null,
   "metadata": {},
   "outputs": [],
   "source": [
    "y_true = Y\n",
    "y_pred = model.predict(X)\n",
    "confusion_matrix(y_true, y_pred)"
   ]
  },
  {
   "cell_type": "code",
   "execution_count": null,
   "metadata": {},
   "outputs": [],
   "source": [
    "shap_values = explainer.shap_values(dataset.drop(columns=['expired']))\n",
    "shap.summary_plot(shap_values[1],dataset.drop(columns=['expired']) ,feature_names=feature_names, show=False)\n",
    "#plt.savefig(\"shap_summary.svg\", format='svg', dpi=300, bbox_inches='tight')\n",
    "for predictor in feature_names:\n",
    "    if predictor != 'age':\n",
    "        save = shap.dependence_plot(predictor, shap_values[1],dataset.drop(columns=['expired']) ,feature_names=feature_names, show=False)\n",
    "    else:\n",
    "        save = shap.dependence_plot(predictor, shap_values[1],dataset.drop(columns=['expired']) ,feature_names=feature_names, interaction_index='gender', show=False)\n",
    "        \n",
    "  #  plt.savefig(predictor+\".svg\", format='svg', dpi=300, bbox_inches='tight')"
   ]
  },
  {
   "cell_type": "code",
   "execution_count": null,
   "metadata": {},
   "outputs": [],
   "source": []
  },
  {
   "cell_type": "code",
   "execution_count": null,
   "metadata": {},
   "outputs": [],
   "source": []
  },
  {
   "cell_type": "code",
   "execution_count": null,
   "metadata": {},
   "outputs": [],
   "source": []
  }
 ],
 "metadata": {
  "kernelspec": {
   "display_name": "Python 3",
   "language": "python",
   "name": "python3"
  },
  "language_info": {
   "codemirror_mode": {
    "name": "ipython",
    "version": 3
   },
   "file_extension": ".py",
   "mimetype": "text/x-python",
   "name": "python",
   "nbconvert_exporter": "python",
   "pygments_lexer": "ipython3",
   "version": "3.8.5"
  }
 },
 "nbformat": 4,
 "nbformat_minor": 4
}
